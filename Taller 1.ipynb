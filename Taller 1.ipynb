{
 "cells": [
  {
   "cell_type": "markdown",
   "id": "5091ce25",
   "metadata": {},
   "source": [
    "### Taller práctico 1\n",
    "# Estudio de asteroides con los datos JPL-NASA\n",
    "Septiembre 2021\n",
    "#### Campaña boliviana de búsqueda de asteroides (ABASC) "
   ]
  },
  {
   "cell_type": "markdown",
   "id": "8620331e",
   "metadata": {},
   "source": [
    "### 1. Instrucciones"
   ]
  },
  {
   "cell_type": "markdown",
   "id": "70b3e756",
   "metadata": {},
   "source": [
    "#### Manejar las celdas\n",
    "Para correr una celda debe hacer clic en la misma y luego presionar `SHIFT + ENTER`. A continuación un ejemplo"
   ]
  },
  {
   "cell_type": "code",
   "execution_count": null,
   "id": "e278ed29",
   "metadata": {},
   "outputs": [],
   "source": [
    "print(\"Ahora puedo correr celdas\")"
   ]
  },
  {
   "cell_type": "markdown",
   "id": "6d9f466d",
   "metadata": {},
   "source": [
    "#### Descargar figuras"
   ]
  },
  {
   "cell_type": "markdown",
   "id": "cd50a63d",
   "metadata": {},
   "source": [
    "Para descargar una figura y tenerla en su computador puede añadir la línea\n",
    "`plt.savefig(\"Nombre de archivo.png\", dpi = 300)`\n",
    "\n",
    "Para las personas que utilicen mybinder les aparecerá un nuevo archivo en la columna de la izquierda, luego deben hacer **clic derecho** y luego **Download**"
   ]
  },
  {
   "cell_type": "markdown",
   "id": "74000378",
   "metadata": {},
   "source": [
    "#### Añadir títulos al gráfico"
   ]
  },
  {
   "cell_type": "markdown",
   "id": "14468dc2",
   "metadata": {},
   "source": [
    "Para añadir títulos a nuestros ejes, o al gráfico se deben usar las siguientes líneas de código luego de utilizar al función que grafica.\n",
    "- `plt.xlabel(\"título gráfico\")`\n",
    "- `plt.xlabel(\"título x\")`\n",
    "- `plt.ylabel(\"título y\")`"
   ]
  },
  {
   "cell_type": "markdown",
   "id": "2b8be3a1",
   "metadata": {},
   "source": [
    "--------------------------"
   ]
  },
  {
   "cell_type": "markdown",
   "id": "72775bdc",
   "metadata": {},
   "source": [
    "# 1. Base de datos\n",
    "\n",
    "La base de datos [JPL Small-Body Database Search Engine](https://ssd.jpl.nasa.gov/sbdb_query.cgi) proporciona información sobre asteroides. Es posible realizar una selección de los mismos y descargar los resultados en formato CSV (comma separated value).\n",
    "\n",
    "Para nuestro estudio del día de hoy se descargó una base de datos, la cual contiene a los asteroides que tienen un diámetro DEFINIDO. Los resultados se almacenan en `data.csv`.\n",
    "\n",
    "Para cargar la base de datos usaremos la librería `pandas`, además cargaremos la librería `matplotlib` para realizar gráficos más adelante."
   ]
  },
  {
   "cell_type": "code",
   "execution_count": null,
   "id": "4497ba33",
   "metadata": {},
   "outputs": [],
   "source": [
    "import pandas as pd\n",
    "import matplotlib.pyplot as plt\n",
    "import numpy as np\n",
    "print(\"Librerías cargadas\")"
   ]
  },
  {
   "cell_type": "markdown",
   "id": "70360969",
   "metadata": {},
   "source": [
    "Ahora que tenemos la librería cargada, podemos cargar la base de datos. Además podemos saber la longitud de la misma (cuántos asteroides contiene), para esto corremos el siguiente código:"
   ]
  },
  {
   "cell_type": "code",
   "execution_count": null,
   "id": "63b21c87",
   "metadata": {},
   "outputs": [],
   "source": [
    "data = pd.read_csv(\"data.csv\")\n",
    "print(\"Base de datos cargada\")\n",
    "print(len(data[\"a\"]),\"asteroides\")"
   ]
  },
  {
   "cell_type": "markdown",
   "id": "42302474",
   "metadata": {},
   "source": [
    "Ahora nos preguntamos ¿qué columnas contiene mi base de datos? Podemos saber esto utilizando el método `data.columns`"
   ]
  },
  {
   "cell_type": "code",
   "execution_count": null,
   "id": "144699f4",
   "metadata": {},
   "outputs": [],
   "source": [
    "print(data.columns)"
   ]
  },
  {
   "cell_type": "markdown",
   "id": "8061fd1f",
   "metadata": {},
   "source": [
    "No es muy intuitivo, queremos saber qué información contiene cada columna. Lo bueno es que este trabajo ya está realizado y las columnas son.\n",
    "\n",
    "| Columna | Parámetro | Descripción                                                             |\n",
    "|---------|-----------|-------------------------------------------------------------------------|\n",
    "| 1       | Full name | Nombre completo del objeto / Designación                                |\n",
    "| 2       | a         | Semi eje mayor (UA)                                                     |\n",
    "| 3       | e         | Excentricidad                                                           |\n",
    "| 4       | i         | Inclinación, en grados, respecto al plano eclíptico (órbita tierra-sol) |\n",
    "| 5       | node      | Longitud del nodo ascendente (grados)                                   |\n",
    "| 6       | peri      | Argumento de perihelio (grados)                                         |\n",
    "| 7       | q         | Perihelio (UA)                                                          |\n",
    "| 8       | Q         | Afelio (UA)                                                             |\n",
    "| 9       | period    | Periodo sidéreo orbital (años)                                          |\n",
    "| 10      | data-arc  | Número de días abarcados por los datos                                          |\n",
    "| 11      | H         | Magnitud absoluta                                                       |\n",
    "| 12      | diameter  | Diámetro del asteroide (km)                                                       |\n",
    "| 13      | NEO       | Objeto cercano a la tierra NEO, (Y, yes/N, no)                          |\n",
    "| 14      | PHA       | Asteroide potencialmente peligroso (Y, yes/ N, no)                      |\n",
    "\n",
    "Ahora sabemos qué información contiene la base de datos. Podemos ver las primeras filas de nuestra base de datos compilando el código:"
   ]
  },
  {
   "cell_type": "code",
   "execution_count": null,
   "id": "a276c739",
   "metadata": {},
   "outputs": [],
   "source": [
    "data.head()"
   ]
  },
  {
   "cell_type": "markdown",
   "id": "5b12c545",
   "metadata": {},
   "source": [
    "¿Qué podemos ver en estas primeras filas?"
   ]
  },
  {
   "cell_type": "markdown",
   "id": "715056a7",
   "metadata": {},
   "source": [
    "--------------------------------------"
   ]
  },
  {
   "cell_type": "markdown",
   "id": "d0b2f3ce",
   "metadata": {},
   "source": [
    "# 2. Histogramas "
   ]
  },
  {
   "cell_type": "markdown",
   "id": "b13525cb",
   "metadata": {},
   "source": [
    "### 2.1. LANZAMIENTO DE UN DADO\n",
    "\n",
    "Un histograma es una representación gráfica de una variable en forma de barras, donde la superficie de cada barra es proporcional a la frecuencia de los valores representados.\n",
    "\n",
    "Tomemos un ejemplo sencillo, si lanzamos un dado $n = 100$ veces, se espera que la cantidad de veces que sale 1, 2, 3, 4, 5 y 6 sea aproximadamente la misma.\n",
    "Podemos hacer un \"lanzador\" de dados en python utilizando valores aleatorios.\n",
    "\n",
    "Para lanzar un dado, corremos el siguiente código, si queremos lanzarlo otra vez podemos correrlo varias veces"
   ]
  },
  {
   "cell_type": "code",
   "execution_count": null,
   "id": "08c87492",
   "metadata": {},
   "outputs": [],
   "source": [
    "import random\n",
    "print(random.randint(1,6))"
   ]
  },
  {
   "cell_type": "markdown",
   "id": "28a51f5c",
   "metadata": {},
   "source": [
    "Anotar cada dato hasta lanzar 100 veces sería largo, por lo que el siguiente código crea una lista con $n$ lanzamientos. Podemos modificar $n$ y cambiar el número de lanzamientos. Por ejemplo, pueden cambiar de 100 a 200 tiros.\n",
    "\n",
    "Como no es práctico mostrar 100 valores (y mucho menos 200) podemos ver los primeros datos utilizando la segunda parte del código, donde $m$ son la cantidad de valores que queremos imprimir."
   ]
  },
  {
   "cell_type": "code",
   "execution_count": null,
   "id": "cf76f537",
   "metadata": {},
   "outputs": [],
   "source": [
    "n = 100             # número de lanzamientos\n",
    "lista = []\n",
    "for i in range(n):\n",
    "    lanzamiento = random.randint(1,6)\n",
    "    lista.append(lanzamiento)\n",
    "    \n",
    "### MOSTRAR LOS PRIMEROS M VALORES\n",
    "m = 8               # cantidad de valores a mostrar\n",
    "print(lista[0:m])"
   ]
  },
  {
   "cell_type": "markdown",
   "id": "6e2ce452",
   "metadata": {},
   "source": [
    "Podemos notar que cada vez que corremos la celda los valores cambian, y es que estamos lanzando el dado 100 veces de nuevo.\n",
    "\n",
    "Ahora queremos saber qué valor salió más veces, lo primero que podríamos hacer es ver los 100 o 200 datos y contar cuántos cincos o cuántos 3 tenemos, pero esto no es práctico y la solución son los histogramas.\n",
    "\n",
    "Creamos un pequeño código que hace más facil crear un histograma. Sólo debes correr la celda y luego explicaremos el uso"
   ]
  },
  {
   "cell_type": "code",
   "execution_count": null,
   "id": "6fd43374",
   "metadata": {},
   "outputs": [],
   "source": [
    "def histograma(datos, bins = 0, limites = 0):\n",
    "    if bins != 0:\n",
    "        plt.hist(datos, bins = bins)\n",
    "    else:\n",
    "        plt.hist(datos)\n",
    "    if limites != 0:\n",
    "        plt.xlim(limites[0],limites[1])\n",
    "print(\"Función histograma creada\")"
   ]
  },
  {
   "cell_type": "markdown",
   "id": "bcdfb3dc",
   "metadata": {},
   "source": [
    "La función que creamos funciona de la siguiente manera: `histograma(datos a graficar, cantidad de bins, límites (lista))`\n",
    "\n",
    "- `datos` es una lista de valores (en nuestro caso la lista se llama lista)\n",
    "- `bins` es un número entero entre los cuales se grafica, se divide a los datos en esa cantidad de categorías (Opcional)\n",
    "- `limites` es una lista de la forma `[xmin, xmax, ymin, ymax]` para cortar el gráfico (Opcional)\n",
    "    \n",
    "Los parámetros opcionales pueden no ser incluidos, y el código tomará su decisión para definir estos parámetros.\n",
    "Haciendo el ejemplo de nuestros 100 lanzamientos de datos:\n",
    "\n",
    "- `datos = lista`\n",
    "- `bins = 6` los 6 valores que toma el dado\n",
    "- `límites` no queremos cortar el gráfico, por lo que no lo incluimos"
   ]
  },
  {
   "cell_type": "code",
   "execution_count": null,
   "id": "57748cf2",
   "metadata": {},
   "outputs": [],
   "source": [
    "histograma(datos = lista)"
   ]
  },
  {
   "cell_type": "markdown",
   "id": "c7fe6df8",
   "metadata": {},
   "source": [
    "NOTA: Las barras se alinean automáticamente, por lo que la barra de $6$ se alinea hacia la izquierda.\n",
    "\n",
    "¿Qué pueden ver en el gráfico? ¿Podemos lanzar otra vez los dados y tener un distinto gráfico?"
   ]
  },
  {
   "cell_type": "markdown",
   "id": "0d87e30c",
   "metadata": {},
   "source": [
    "## 2.2. HISTOGRAMA DE ASTEROIDES SEGÚN SU SEMI EJE MAYOR $a$"
   ]
  },
  {
   "cell_type": "markdown",
   "id": "7dcc4555",
   "metadata": {},
   "source": [
    "Ahora que sabemos cómo interpretar un histograma realizaremos uno con nuestra base de datos. Tomaremos los valores de la columna $a$, es decir, el semi eje mayor.\n",
    "\n",
    "Para tomar una columna y almacenarla en la variable `semieje` corremos el siguiente código y podemos observar los primeros 5 elementos."
   ]
  },
  {
   "cell_type": "code",
   "execution_count": null,
   "id": "96dd831b",
   "metadata": {},
   "outputs": [],
   "source": [
    "semieje = data[\"a\"]\n",
    "print(semieje[0:5]) #obsevar los 5 primeros elementos, se puede modificar"
   ]
  },
  {
   "cell_type": "markdown",
   "id": "921bb180",
   "metadata": {},
   "source": [
    "El siguiente paso es realizar rápidamente un histograma con estos valores."
   ]
  },
  {
   "cell_type": "code",
   "execution_count": null,
   "id": "79f3b17d",
   "metadata": {},
   "outputs": [],
   "source": [
    "histograma(semieje)"
   ]
  },
  {
   "cell_type": "markdown",
   "id": "7de1f68b",
   "metadata": {},
   "source": [
    "Este gráfico no sirve de mucho, sólo nos informa que tenemos casi 140000 asteroides entre 0 y 50 UA.\n",
    "\n",
    "Tenemos 2 problemas, el primero es la cantidad de bins. Se puede obtener la información sobre el gráfico asignando variables al mismo (este código no usa la función `histograma`, no es de preocuparse)"
   ]
  },
  {
   "cell_type": "code",
   "execution_count": null,
   "id": "b1e484b1",
   "metadata": {},
   "outputs": [],
   "source": [
    "(n, bins, patches) = plt.hist(semieje)\n",
    "print(\"El gráfico se divide en\",len(bins), \"bins\")"
   ]
  },
  {
   "cell_type": "markdown",
   "id": "630a0f77",
   "metadata": {},
   "source": [
    "Podemos cambiar la cantidad de bins para tener mejor información, esto hará que se divida a los datos en más segmentos y así podemos notar mejor la distribución"
   ]
  },
  {
   "cell_type": "code",
   "execution_count": null,
   "id": "64b4fe6f",
   "metadata": {},
   "outputs": [],
   "source": [
    "## CAMBIAR LA CANTIDAD DE BINS A UN MAYOR VALOR\n",
    "histograma(semieje, bins = 100)"
   ]
  },
  {
   "cell_type": "markdown",
   "id": "b59e2ada",
   "metadata": {},
   "source": [
    "Aún nos queda la duda ¿por qué el gráfico va de 0 a 350 UA? Podemos explorar al asteroide más lejano (con máximo $a$) y el más cercano (con mínimo $a$). Así podemos tener una idea"
   ]
  },
  {
   "cell_type": "code",
   "execution_count": null,
   "id": "b5bf7c1c",
   "metadata": {},
   "outputs": [],
   "source": [
    "print(\"Asteroide más cercano\", min(semieje), \"UA\")\n",
    "print(\"Asteroide más lejano\", max(semieje), \"UA\")"
   ]
  },
  {
   "cell_type": "markdown",
   "id": "d8888c27",
   "metadata": {},
   "source": [
    "De aquí notamos que hay un asteroide que está a $378 UA$, y como seguramente son muy pocos, no aparecen en nuestro gráfico.\n",
    "\n",
    "Para solucionar esto podemos cortar el gráfico, ahora usaremos un límite menor y mayor para cortar horizontalmente los semiejes.\n",
    "\n",
    "Por ejemplo queremos que el gráfico vaya de 0 a 50 UA, entonces tendríamos\n",
    "`limites = [0,50]`\n",
    "\n",
    "El reto es cambiar estos parámetros (bins y límites) hasta que nuestro gráfico nos de mejor información."
   ]
  },
  {
   "cell_type": "code",
   "execution_count": null,
   "id": "6b75559e",
   "metadata": {
    "scrolled": true
   },
   "outputs": [],
   "source": [
    "histograma(semieje, bins = 25, limites = [0,100])"
   ]
  },
  {
   "cell_type": "markdown",
   "id": "ece3322a",
   "metadata": {},
   "source": [
    "Como seguramente notaron, para que el gráfico mejore tuvimos que subir mucho la cantidad de bins, y esto no es óptimo.\n",
    "\n",
    "La segunda solución es cortar *los datos*, es decir sólo graficaremos los asteroides con un $a$ menor a un valor específico. Para esto usaremos una variable llamada `valor`, y el código corta los datos. Luego podemos ver qué asteroide es el más cercano y lejano.\n"
   ]
  },
  {
   "cell_type": "code",
   "execution_count": null,
   "id": "b0d2e269",
   "metadata": {
    "scrolled": true
   },
   "outputs": [],
   "source": [
    "valor = 10   ## tomaremos a los asteroides con semieje menor a ....\n",
    "semieje2 = data[data[\"a\"]<valor][\"a\"]\n",
    "print(\"Asteroide más cercano\", min(semieje2), \"UA\")\n",
    "print(\"Asteroide más lejano\", max(semieje2), \"UA\")"
   ]
  },
  {
   "cell_type": "markdown",
   "id": "e401b904",
   "metadata": {},
   "source": [
    "Notamos que ahora el asteroide más lejano no sobrepasa el límite que ponemos, ahora podemos graficar sin la necesidad de cortar el gráfico (sin usar límite)."
   ]
  },
  {
   "cell_type": "code",
   "execution_count": null,
   "id": "2946a593",
   "metadata": {},
   "outputs": [],
   "source": [
    "histograma(semieje2, bins = 100) #jugar con el valor de bins"
   ]
  },
  {
   "cell_type": "markdown",
   "id": "538f4fff",
   "metadata": {},
   "source": [
    "Ahora podemos cambiar nuestro `valor` y también la cantidad de `bins`.\n",
    "\n",
    "¿Qué podemos observar?¿Entre qué valores hay una mayor cantidad de asteroides?\n",
    "\n",
    "**PROBLEMAS**\n",
    "\n",
    "- P1. ¿Cuánto vale el semieje mayor del planeta Júpiter?¿Cuántos asteroides existen a esa distancia?\n",
    "- P2. ¿Y para la tierra?\n",
    "- P3. Podemos tener un gráfico más interesante sabiendo que hay muy pocos asteroides desde el sol hacia la tierra, abajo realiza un gráfico con estos límites"
   ]
  },
  {
   "cell_type": "code",
   "execution_count": null,
   "id": "fc81b9c3",
   "metadata": {},
   "outputs": [],
   "source": [
    "## SOLUCIÓN PREGUNTA 3\n"
   ]
  },
  {
   "cell_type": "markdown",
   "id": "58dc0ded",
   "metadata": {},
   "source": [
    "# 3. DIAGRAMA DE DISPERSIÓN: EXCENTRICIDAD Y PERIODO"
   ]
  },
  {
   "cell_type": "markdown",
   "id": "5f0fae23",
   "metadata": {},
   "source": [
    "Un histograma es bastante útil para representar la distribución de una variable, pero normalmente queremos conocer la relación entre dos (o hasta 3) variables. La herramienta que usaremos serán los diagramas de dispersión (o *scatterplot*).\n",
    "\n",
    "Si conocemos acerca de un plano cartesiano conocemos casi todo sobre este diagrama. En pocas palabras toma un punto y representa una variable en cada coordenada. Para explicar mejor esto usaremos un ejemplo. Pero primero crearemos una función para hacer estos gráficos de forma más simple:"
   ]
  },
  {
   "cell_type": "code",
   "execution_count": null,
   "id": "67f7a009",
   "metadata": {},
   "outputs": [],
   "source": [
    "def dispersion(datosx, datosy, color = 0, limites = 0, tamaño = 0):\n",
    "    if type(color) != int:\n",
    "        if tamaño != 0:\n",
    "            plt.scatter(datosx, datosy, c = color, s = tamaño, cmap = \"hot\")\n",
    "        else:\n",
    "            plt.scatter(datosx, datosy, c = color, cmap = \"hot\")\n",
    "        plt.colorbar()\n",
    "    else:\n",
    "        if tamaño != 0:\n",
    "            plt.scatter(datosx, datosy, s = tamaño)\n",
    "        else:\n",
    "            plt.scatter(datosx, datosy)\n",
    "    if limites != 0:\n",
    "        plt.xlim(limites[0],limites[1])\n",
    "print(\"Función dispersión creada\")"
   ]
  },
  {
   "cell_type": "markdown",
   "id": "d2b0e96b",
   "metadata": {},
   "source": [
    "La función que creamos funciona de la siguiente manera: `dispersion(datos en x, datos en y, color, limites, tamaño)`\n",
    "\n",
    "- `datosx` es una lista de valores que serán graficados en el eje x\n",
    "- `datosy` es una lista de valores que serán graficados en el eje y\n",
    "- `tamaño` tamaño de los puntos, puede ser un valor fijo o una lista y los puntos tendrán el tamaño de cada valor en esa lista\n",
    "- `color` color de los puntos, una lista para colorear los puntos acorde a su valor, será adjunto un mapa de color que explique este parámetro\n",
    "- `limites` es una lista de la forma `[xmin, xmax]` para cortar el gráfico (Opcional)"
   ]
  },
  {
   "cell_type": "markdown",
   "id": "009a58d9",
   "metadata": {},
   "source": [
    "### 3.1. Ejemplo: Edad vs Altura en niños\n",
    "Usaremos un pequeño ejemplo para ver cuánto crecen los niños en sus primeros 10 años. Crearemos un par de listas con la información. Es importante que ambas listas estén ordenadas, ya que el primer dato de la primera lista se relaciona con el primer dato de la segunda lista, y luego grafica ese punto en un plano cartesiano."
   ]
  },
  {
   "cell_type": "code",
   "execution_count": null,
   "id": "5ccce5e7",
   "metadata": {},
   "outputs": [],
   "source": [
    "edades = [0, 0.5, 1, 1.5, 2, 2.5, 3, 4, 5, 6, 7, 8, 9, 10]\n",
    "altura = [50.2, 68.3, 77, 83.5, 89, 92.9, 96.9, 104.6, 111, 117.5, 123.6, 129.7, 134.6, 140.1]\n",
    "if len(edades) == len(altura): print(\"Las listas tienen el mismo largo\")"
   ]
  },
  {
   "cell_type": "markdown",
   "id": "32a07940",
   "metadata": {},
   "source": [
    "Ahora podemos graficar nuestros valores, en el eje x pondremos las edades y en el eje y la altura"
   ]
  },
  {
   "cell_type": "code",
   "execution_count": null,
   "id": "f2541f2a",
   "metadata": {},
   "outputs": [],
   "source": [
    "dispersion(datosx = edades, datosy = altura)\n",
    "plt.xlabel(\"Edad (años)\")\n",
    "plt.ylabel(\"Altura (cm)\")"
   ]
  },
  {
   "cell_type": "markdown",
   "id": "651d3743",
   "metadata": {},
   "source": [
    "¿Qué notamos? Por ejemplo podemos ver un crecimiento rápido hasta los 3 años y posteriormente hay un crecimiento casi lineal. Lo importante es que podemos generar un gráfico y éste relaciona a los valores de ambas listas."
   ]
  },
  {
   "cell_type": "markdown",
   "id": "ffbd2bd3",
   "metadata": {},
   "source": [
    "## 3.2. Excentricidad y semieje\n",
    "Ahora usaremos nuestra base de datos, graficaremos al semieje mayor del asteroide en el eje x, y la excentricidad en el eje y.\n",
    "\n",
    "En principio no sería complicado, podemos graficar todo en la forma básica de nuestra función. Almacenamos nuestras listas en las variables `semieje` y `excentricidad`. (NOTA: Usamos a los asteroides con semieje mayor menor a 6)."
   ]
  },
  {
   "cell_type": "code",
   "execution_count": null,
   "id": "c98261a1",
   "metadata": {},
   "outputs": [],
   "source": [
    "valor = 6      #límite para los semieje mayor\n",
    "semieje = data[data[\"a\"]<valor][\"a\"]\n",
    "excentricidad = data[data[\"a\"]<valor][\"e\"]\n",
    "dispersion(datosx = semieje, datosy = excentricidad)\n",
    "plt.xlabel(\"Semieje Mayor [UA]\")\n",
    "plt.ylabel(\"Excentricidad\")"
   ]
  },
  {
   "cell_type": "markdown",
   "id": "44963e28",
   "metadata": {},
   "source": [
    "¡No vemos mucho! Los puntos son demasiado grandes\n",
    "\n",
    "**RETO** Podemos regularlos añadiendo `tamaño = 3` a nuestra función. No olviden colocar los títulos a los ejes. Si lo desean pueden cambiar aún más el tamaño."
   ]
  },
  {
   "cell_type": "code",
   "execution_count": null,
   "id": "0abdb2a8",
   "metadata": {},
   "outputs": [],
   "source": [
    "## SOLUCIÓN AL RETO"
   ]
  },
  {
   "cell_type": "markdown",
   "id": "c88da6c9",
   "metadata": {},
   "source": [
    "**PREGUNTAS**\n",
    "\n",
    "- ¿Qué aprendemos? \n",
    "- ¿Podemos reconocer al cinturón principal de asteroides (se encuentra entre 2 y 3.3 UA)?\n",
    "- ¿En qué regiones encontramos asteroides con mayor excentricidad?¿Y con menor excentricidad?"
   ]
  },
  {
   "cell_type": "markdown",
   "id": "b1ce44d8",
   "metadata": {},
   "source": [
    "## 3.3. Excentricidad, semieje y tamaño\n",
    "Ahora usaremos nuestra base de datos, graficaremos al semieje mayor del asteroide en el eje x, y la excentricidad en el eje y. PERO esta vez coloreamos los asteroides acorde a su tamaño (diámetro).\n",
    "\n",
    "Almacenamos el diámetro de los asteroides en la variable `diametro`. \n",
    "(NOTA: Usamos a los asteroides con semieje mayor menor a 6)."
   ]
  },
  {
   "cell_type": "code",
   "execution_count": null,
   "id": "f6ed025d",
   "metadata": {},
   "outputs": [],
   "source": [
    "valor = 6\n",
    "diametro_max = 20\n",
    "data2 = data[(data[\"a\"]<valor) & (data[\"diameter\"]<diametro_max)]    # SELECCIONAMOS LOS DATOS CON LAS CONDICIONES\n",
    "semieje = data2[\"a\"]  #SEMIEJE\n",
    "excentricidad = data2[\"e\"] #EXCENTRICIDAD\n",
    "diametro = data2[\"diameter\"] #DIAMETRO\n",
    "dispersion(datosx = semieje, datosy = excentricidad, color = diametro, tamaño = 1)"
   ]
  },
  {
   "cell_type": "markdown",
   "id": "7c2a7a7d",
   "metadata": {},
   "source": [
    "**PREGUNTAS**\n",
    "\n",
    "- ¿Qué observamos? \n",
    "- ¿En qué regiones encontramos asteroides con mayor diámetro?¿Podemos relacionar este parámetro con su excentricidad?"
   ]
  },
  {
   "cell_type": "markdown",
   "id": "f5aa1880",
   "metadata": {},
   "source": [
    "## 3.3. Periodo y semieje mayor\n",
    "Exploremos la tercera ley de Kepler, que relaciona al periodo (tiempo en el que un asteroide completa una órbita) con el semieje mayor. En pocas palabras la ley relaciona a estos parámetros como:\n",
    "$$P^2 = a^3$$\n",
    "Donde $P$ es el periodo y $a$ es el semieje mayor. \n",
    "\n",
    "Graficamos los datos y podemos observar que si están relacionadas:"
   ]
  },
  {
   "cell_type": "code",
   "execution_count": null,
   "id": "37808c1b",
   "metadata": {
    "scrolled": true
   },
   "outputs": [],
   "source": [
    "data3 = data[data[\"a\"]<valor]\n",
    "semieje = data3[\"a\"]\n",
    "periodo = data3[\"per_y\"]\n",
    "dispersion(datosx = semieje, datosy = periodo, tamaño = 3)\n",
    "plt.xlabel(\"Periodo (años)\")\n",
    "plt.ylabel(\"Excentricidad\")"
   ]
  },
  {
   "cell_type": "markdown",
   "id": "d0618ed6",
   "metadata": {},
   "source": [
    "**PREGUNTAS**\n",
    "\n",
    "- ¿Qué observamos? \n",
    "- Podemos buscar el semi eje mayor de los planetas (Tierra, Marte, etc.) y encontrar su periodo.\n",
    "- Podemos añadir el color a los asteroides (RETO)\n",
    "- AVANZADO: ¿Cómo podemos linealizar el modelo? (Pista: Aplicando una función conocida)"
   ]
  },
  {
   "cell_type": "code",
   "execution_count": null,
   "id": "f59b3bb9",
   "metadata": {},
   "outputs": [],
   "source": [
    "## PREGUNTA 3\n",
    "data4 = data3[data3[\"diameter\"]<20]\n",
    "semieje = data4[\"a\"]   ## SEMI EJE MAYOR\n",
    "periodo = data4[\"per_y\"]    ## PERIODO\n",
    "diametro = data4[\"diameter\"]   ## DIAMETRO\n"
   ]
  },
  {
   "cell_type": "markdown",
   "id": "6451199f",
   "metadata": {},
   "source": [
    "Para mejorar el modelo podemos calcular el logaritmo, así podemos encontrar una recta, es decir:\n",
    "\n",
    "$$\\text{log}(P)=k\\text{log}(a)$$\n",
    "\n",
    "Con $k$ una constante. Así tendremos un modelo lineal, para esto podemos calcular los logaritmos con la función `np.log()`."
   ]
  },
  {
   "cell_type": "code",
   "execution_count": null,
   "id": "9a36edd8",
   "metadata": {},
   "outputs": [],
   "source": [
    "dispersion(datosx = np.log(semieje), datosy = np.log(periodo), tamaño = 3)"
   ]
  },
  {
   "cell_type": "markdown",
   "id": "03739716",
   "metadata": {},
   "source": [
    "## 4. Asteroides peligrosos\n",
    "\n",
    "Como vimos en nuestra base de datos, tenemos la columna para saber si un asteroide es considerado NEO (objeto cercano a la tierra) o PHA (asteroide potencialmente peligroso).\n",
    "\n",
    "En el código no usamos la función `histograma`, ya que necesitamos algunos nuevos parámetros.\n",
    "\n",
    "A continuación tenemos dos histogramas, el primero es sobre la distribución de asteroides por diámetro, y el segundo es la distribución en semieje mayor."
   ]
  },
  {
   "cell_type": "code",
   "execution_count": null,
   "id": "d0b2d627",
   "metadata": {},
   "outputs": [],
   "source": [
    "valor = 8\n",
    "diametro_max = 5\n",
    "data4 = data[(data[\"a\"]<valor) & (data[\"diameter\"]<5)]\n",
    "neo = data4[data4[\"neo\"] == \"Y\"]\n",
    "pha = data4[data4[\"pha\"] == \"Y\"]\n",
    "plt.hist(neo[\"diameter\"], bins = 40, label = \"NEO\")\n",
    "plt.hist(pha[\"diameter\"], bins = 40, label = \"PHA\")\n",
    "plt.legend()\n",
    "plt.xlabel(\"Diámetro (km)\")\n",
    "plt.ylabel(\"Conteo\")"
   ]
  },
  {
   "cell_type": "code",
   "execution_count": null,
   "id": "5a2f39fb",
   "metadata": {},
   "outputs": [],
   "source": [
    "plt.hist(neo[\"e\"], bins = 40, label = \"NEO\")\n",
    "plt.hist(pha[\"e\"], bins = 40, label = \"PHA\")\n",
    "plt.legend()\n",
    "plt.xlabel(\"Semi eje mayor (UA)\")\n",
    "plt.ylabel(\"Conteo\")"
   ]
  },
  {
   "cell_type": "markdown",
   "id": "9ef6a636",
   "metadata": {},
   "source": [
    "-------------------\n",
    "*ABASC 2021*"
   ]
  }
 ],
 "metadata": {
  "kernelspec": {
   "display_name": "Python 3 (ipykernel)",
   "language": "python",
   "name": "python3"
  },
  "language_info": {
   "codemirror_mode": {
    "name": "ipython",
    "version": 3
   },
   "file_extension": ".py",
   "mimetype": "text/x-python",
   "name": "python",
   "nbconvert_exporter": "python",
   "pygments_lexer": "ipython3",
   "version": "3.8.8"
  }
 },
 "nbformat": 4,
 "nbformat_minor": 5
}
