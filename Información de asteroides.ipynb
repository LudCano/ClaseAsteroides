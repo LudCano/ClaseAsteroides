{
 "cells": [
  {
   "cell_type": "markdown",
   "id": "5091ce25",
   "metadata": {},
   "source": [
    "### Taller práctico\n",
    "# Estudio de asteroides con los datos JPL-NASA\n",
    "Septiembre 2021\n",
    "#### Campaña boliviana de búsqueda de asteroides (ABASC) "
   ]
  },
  {
   "cell_type": "markdown",
   "id": "8620331e",
   "metadata": {},
   "source": [
    "### 1. Instrucciones"
   ]
  },
  {
   "cell_type": "markdown",
   "id": "70b3e756",
   "metadata": {},
   "source": [
    "#### OPCIÓN 1: UTILIZAR LA COMPUTADORA (ARCHIVOS DESCARGADOS)\n",
    "\n",
    "1. Descargar el notebook `Información de asteroides.ipynb` y la base de datos `data.csv`. La base de datos deberá estar en el mismo directorio que el notebook\n",
    "2. Abrir el notebook con Jupyter Notebook\n",
    "\n",
    "#### OPCIÓN 2: UTILIZAR MYBINDER (ARCHIVOS EN LA NUBE)\n",
    "1. Utilizar el link provisto, esperar a que cargue la plataforma\n",
    "\n",
    "#### Manejar las celdas\n",
    "Para correr una celda debe hacer clic en la misma y luego presionar `SHIFT + ENTER`. A continuación un ejemplo"
   ]
  },
  {
   "cell_type": "code",
   "execution_count": null,
   "id": "e278ed29",
   "metadata": {},
   "outputs": [],
   "source": [
    "print(\"Ahora puedo correr celdas\")"
   ]
  },
  {
   "cell_type": "markdown",
   "id": "2b8be3a1",
   "metadata": {},
   "source": [
    "--------------------------"
   ]
  },
  {
   "cell_type": "markdown",
   "id": "72775bdc",
   "metadata": {},
   "source": [
    "# Base de datos\n",
    "\n",
    "La base de datos [JPL Small-Body Database Search Engine](https://ssd.jpl.nasa.gov/sbdb_query.cgi) proporciona información sobre asteroides. Es posible realizar una selección de los mismos y descargar los resultados en formato CSV (comma separated value).\n",
    "\n",
    "Para nuestro estudio del día de hoy se descargó una base de datos, la cual contiene a los asteroides que tienen un diámetro DEFINIDO. Los resultados se almacenan en `data.csv`.\n",
    "\n",
    "Para cargar la base de datos usaremos la librería `pandas`, además cargaremos la librería `matplotlib` para realizar gráficos más adelante."
   ]
  },
  {
   "cell_type": "code",
   "execution_count": null,
   "id": "4497ba33",
   "metadata": {},
   "outputs": [],
   "source": [
    "import pandas as pd\n",
    "import matplotlib.pyplot as plt\n",
    "print(\"Librerías cargadas\")"
   ]
  },
  {
   "cell_type": "markdown",
   "id": "70360969",
   "metadata": {},
   "source": [
    "Ahora que tenemos la librería cargada, podemos cargar la base de datos. Además podemos saber la longitud de la misma (cuántos asteroides contiene), para esto corremos el siguiente código:"
   ]
  },
  {
   "cell_type": "code",
   "execution_count": null,
   "id": "63b21c87",
   "metadata": {},
   "outputs": [],
   "source": [
    "data = pd.read_csv(\"data2.csv\")\n",
    "print(\"Base de datos cargada\")\n",
    "print(len(data[\"a\"]),\"asteroides\")"
   ]
  },
  {
   "cell_type": "markdown",
   "id": "42302474",
   "metadata": {},
   "source": [
    "Ahora nos preguntamos ¿qué columnas contiene mi base de datos? Podemos saber esto utilizando el método `data.columns`"
   ]
  },
  {
   "cell_type": "code",
   "execution_count": null,
   "id": "144699f4",
   "metadata": {},
   "outputs": [],
   "source": [
    "print(data.columns)"
   ]
  },
  {
   "cell_type": "markdown",
   "id": "8061fd1f",
   "metadata": {},
   "source": [
    "No es muy intuitivo, queremos saber qué información contiene cada columna. Lo bueno es que este trabajo ya está realizado y las columnas son.\n",
    "\n",
    "| Columna | Parámetro | Descripción                                                             |\n",
    "|---------|-----------|-------------------------------------------------------------------------|\n",
    "| 1       | Full name | Nombre completo del objeto / Designación                                |\n",
    "| 2       | a         | Semi eje mayor (UA)                                                     |\n",
    "| 3       | e         | Excentricidad                                                           |\n",
    "| 4       | i         | Inclinación, en grados, respecto al plano eclíptico (órbita tierra-sol) |\n",
    "| 5       | node      | Longitud del nodo ascendente (grados)                                   |\n",
    "| 6       | peri      | Argumento de perihelio (grados)                                         |\n",
    "| 7       | q         | Perihelio (UA)                                                          |\n",
    "| 8       | Q         | Afelio (UA)                                                             |\n",
    "| 9       | period    | Periodo sidéreo orbital (años)                                          |\n",
    "| 10      | H         | Magnitud absoluta                                                       |\n",
    "| 11      | NEO       | Objeto cercano a la tierra NEO, (Y, yes/N, no)                          |\n",
    "| 12      | PHA       | Asteroide potencialmente peligroso (Y, yes/ N, no)                      |\n",
    "| 13      | rot_per   | Periodo rotacional del asteroide (horas)                                |\n",
    "\n",
    "Ahora sabemos qué información contiene la base de datos. Podemos ver las primeras filas de nuestra base de datos compilando el código:"
   ]
  },
  {
   "cell_type": "code",
   "execution_count": null,
   "id": "a276c739",
   "metadata": {},
   "outputs": [],
   "source": [
    "data.head()"
   ]
  },
  {
   "cell_type": "markdown",
   "id": "5b12c545",
   "metadata": {},
   "source": [
    "¿Qué podemos ver en estas primeras filas?"
   ]
  }
 ],
 "metadata": {
  "kernelspec": {
   "display_name": "Python 3 (ipykernel)",
   "language": "python",
   "name": "python3"
  },
  "language_info": {
   "codemirror_mode": {
    "name": "ipython",
    "version": 3
   },
   "file_extension": ".py",
   "mimetype": "text/x-python",
   "name": "python",
   "nbconvert_exporter": "python",
   "pygments_lexer": "ipython3",
   "version": "3.8.8"
  }
 },
 "nbformat": 4,
 "nbformat_minor": 5
}
