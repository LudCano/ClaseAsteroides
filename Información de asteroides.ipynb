{
 "cells": [
  {
   "cell_type": "markdown",
   "id": "5091ce25",
   "metadata": {},
   "source": [
    "### Taller práctico\n",
    "# Estudio de asteroides con los datos JPL-NASA\n",
    "Septiembre 2021\n",
    "#### Campaña boliviana de búsqueda de asteroides (ABASC) "
   ]
  },
  {
   "cell_type": "markdown",
   "id": "8620331e",
   "metadata": {},
   "source": [
    "### 1. Instrucciones"
   ]
  },
  {
   "cell_type": "markdown",
   "id": "70b3e756",
   "metadata": {},
   "source": [
    "#### Manejar las celdas\n",
    "Para correr una celda debe hacer clic en la misma y luego presionar `SHIFT + ENTER`. A continuación un ejemplo"
   ]
  },
  {
   "cell_type": "code",
   "execution_count": null,
   "id": "e278ed29",
   "metadata": {},
   "outputs": [],
   "source": [
    "print(\"Ahora puedo correr celdas\")"
   ]
  },
  {
   "cell_type": "markdown",
   "id": "2b8be3a1",
   "metadata": {},
   "source": [
    "--------------------------"
   ]
  },
  {
   "cell_type": "markdown",
   "id": "72775bdc",
   "metadata": {},
   "source": [
    "# 1. Base de datos\n",
    "\n",
    "La base de datos [JPL Small-Body Database Search Engine](https://ssd.jpl.nasa.gov/sbdb_query.cgi) proporciona información sobre asteroides. Es posible realizar una selección de los mismos y descargar los resultados en formato CSV (comma separated value).\n",
    "\n",
    "Para nuestro estudio del día de hoy se descargó una base de datos, la cual contiene a los asteroides que tienen un diámetro DEFINIDO. Los resultados se almacenan en `data.csv`.\n",
    "\n",
    "Para cargar la base de datos usaremos la librería `pandas`, además cargaremos la librería `matplotlib` para realizar gráficos más adelante."
   ]
  },
  {
   "cell_type": "code",
   "execution_count": null,
   "id": "4497ba33",
   "metadata": {},
   "outputs": [],
   "source": [
    "import pandas as pd\n",
    "import matplotlib.pyplot as plt\n",
    "import numpy as np\n",
    "print(\"Librerías cargadas\")"
   ]
  },
  {
   "cell_type": "markdown",
   "id": "70360969",
   "metadata": {},
   "source": [
    "Ahora que tenemos la librería cargada, podemos cargar la base de datos. Además podemos saber la longitud de la misma (cuántos asteroides contiene), para esto corremos el siguiente código:"
   ]
  },
  {
   "cell_type": "code",
   "execution_count": null,
   "id": "63b21c87",
   "metadata": {},
   "outputs": [],
   "source": [
    "data = pd.read_csv(\"data.csv\")\n",
    "print(\"Base de datos cargada\")\n",
    "print(len(data[\"a\"]),\"asteroides\")"
   ]
  },
  {
   "cell_type": "markdown",
   "id": "42302474",
   "metadata": {},
   "source": [
    "Ahora nos preguntamos ¿qué columnas contiene mi base de datos? Podemos saber esto utilizando el método `data.columns`"
   ]
  },
  {
   "cell_type": "code",
   "execution_count": null,
   "id": "144699f4",
   "metadata": {},
   "outputs": [],
   "source": [
    "print(data.columns)"
   ]
  },
  {
   "cell_type": "markdown",
   "id": "8061fd1f",
   "metadata": {},
   "source": [
    "No es muy intuitivo, queremos saber qué información contiene cada columna. Lo bueno es que este trabajo ya está realizado y las columnas son.\n",
    "\n",
    "| Columna | Parámetro | Descripción                                                             |\n",
    "|---------|-----------|-------------------------------------------------------------------------|\n",
    "| 1       | Full name | Nombre completo del objeto / Designación                                |\n",
    "| 2       | a         | Semi eje mayor (UA)                                                     |\n",
    "| 3       | e         | Excentricidad                                                           |\n",
    "| 4       | i         | Inclinación, en grados, respecto al plano eclíptico (órbita tierra-sol) |\n",
    "| 5       | node      | Longitud del nodo ascendente (grados)                                   |\n",
    "| 6       | peri      | Argumento de perihelio (grados)                                         |\n",
    "| 7       | q         | Perihelio (UA)                                                          |\n",
    "| 8       | Q         | Afelio (UA)                                                             |\n",
    "| 9       | period    | Periodo sidéreo orbital (años)                                          |\n",
    "| 10      | H         | Magnitud absoluta                                                       |\n",
    "| 11      | NEO       | Objeto cercano a la tierra NEO, (Y, yes/N, no)                          |\n",
    "| 12      | PHA       | Asteroide potencialmente peligroso (Y, yes/ N, no)                      |\n",
    "| 13      | rot_per   | Periodo rotacional del asteroide (horas)                                |\n",
    "\n",
    "Ahora sabemos qué información contiene la base de datos. Podemos ver las primeras filas de nuestra base de datos compilando el código:"
   ]
  },
  {
   "cell_type": "code",
   "execution_count": null,
   "id": "a276c739",
   "metadata": {},
   "outputs": [],
   "source": [
    "data.head()"
   ]
  },
  {
   "cell_type": "markdown",
   "id": "5b12c545",
   "metadata": {},
   "source": [
    "¿Qué podemos ver en estas primeras filas?"
   ]
  },
  {
   "cell_type": "markdown",
   "id": "715056a7",
   "metadata": {},
   "source": [
    "--------------------------------------"
   ]
  },
  {
   "cell_type": "markdown",
   "id": "d0b2f3ce",
   "metadata": {},
   "source": [
    "# 2. Histogramas "
   ]
  },
  {
   "cell_type": "markdown",
   "id": "b13525cb",
   "metadata": {},
   "source": [
    "### 2.1. LANZAMIENTO DE UN DADO\n",
    "\n",
    "Un histograma es una representación gráfica de una variable en forma de barras, donde la superficie de cada barra es proporcional a la frecuencia de los valores representados.\n",
    "\n",
    "Tomemos un ejemplo sencillo, si lanzamos un dado $n = 100$ veces, se espera que la cantidad de veces que sale 1, 2, 3, 4, 5 y 6 sea aproximadamente la misma.\n",
    "Podemos hacer un \"lanzador\" de dados en python utilizando valores aleatorios.\n",
    "\n",
    "Para lanzar un dado, corremos el siguiente código, si queremos lanzarlo otra vez podemos correrlo varias veces"
   ]
  },
  {
   "cell_type": "code",
   "execution_count": null,
   "id": "08c87492",
   "metadata": {},
   "outputs": [],
   "source": [
    "import random\n",
    "print(random.randint(1,6))"
   ]
  },
  {
   "cell_type": "markdown",
   "id": "28a51f5c",
   "metadata": {},
   "source": [
    "Anotar cada dato hasta lanzar 100 veces sería largo, por lo que el siguiente código crea una lista con $n$ lanzamientos. Podemos modificar $n$ y cambiar el número de lanzamientos. Por ejemplo, pueden cambiar de 100 a 200 tiros.\n",
    "\n",
    "Como no es práctico mostrar 100 valores (y mucho menos 200) podemos ver los primeros datos utilizando la segunda parte del código, donde $m$ son la cantidad de valores que queremos imprimir."
   ]
  },
  {
   "cell_type": "code",
   "execution_count": null,
   "id": "cf76f537",
   "metadata": {},
   "outputs": [],
   "source": [
    "n = 100             # número de lanzamientos\n",
    "lista = []\n",
    "for i in range(n):\n",
    "    lanzamiento = random.randint(1,6)\n",
    "    lista.append(lanzamiento)\n",
    "    \n",
    "### MOSTRAR LOS PRIMEROS M VALORES\n",
    "m = 8               # cantidad de valores a mostrar\n",
    "print(lista[0:m])"
   ]
  },
  {
   "cell_type": "markdown",
   "id": "6e2ce452",
   "metadata": {},
   "source": [
    "Podemos notar que cada vez que corremos la celda los valores cambian, y es que estamos lanzando el dado 100 veces de nuevo.\n",
    "\n",
    "Ahora queremos saber qué valor salió más veces, lo primero que podríamos hacer es ver los 100 o 200 datos y contar cuántos cincos o cuántos 3 tenemos, pero esto no es práctico y la solución son los histogramas.\n",
    "\n",
    "Creamos un pequeño código que hace más facil crear un histograma. Sólo debes correr la celda y luego explicaremos el uso"
   ]
  },
  {
   "cell_type": "code",
   "execution_count": null,
   "id": "6fd43374",
   "metadata": {},
   "outputs": [],
   "source": [
    "def histograma(datos, bins = 0, limites = 0):\n",
    "    if bins != 0:\n",
    "        plt.hist(datos, bins = bins)\n",
    "    else:\n",
    "        plt.hist(datos)\n",
    "    if limites != 0:\n",
    "        plt.xlim(limites[0],limites[1])\n",
    "    "
   ]
  },
  {
   "cell_type": "code",
   "execution_count": null,
   "id": "ad02cd17",
   "metadata": {},
   "outputs": [],
   "source": []
  },
  {
   "cell_type": "markdown",
   "id": "bcdfb3dc",
   "metadata": {},
   "source": [
    "La función que creamos funciona de la siguiente manera: `histograma(datos a graficar, cantidad de bins, límites (lista))`\n",
    "\n",
    "- `datos` es una lista de valores (en nuestro caso la lista se llama lista)\n",
    "- `bins` es un número entero entre los cuales se grafica, se divide a los datos en esa cantidad de categorías (Opcional)\n",
    "- `limites` es una lista de la forma `[xmin, xmax, ymin, ymax]` para cortar el gráfico (Opcional)\n",
    "    \n",
    "Los parámetros opcionales pueden no ser incluidos, y el código tomará su decisión para definir estos parámetros.\n",
    "Haciendo el ejemplo de nuestros 100 lanzamientos de datos:\n",
    "\n",
    "- `datos = lista`\n",
    "- `bins = 6` los 6 valores que toma el dado\n",
    "- `límites` no queremos cortar el gráfico, por lo que no lo incluimos"
   ]
  },
  {
   "cell_type": "code",
   "execution_count": null,
   "id": "57748cf2",
   "metadata": {},
   "outputs": [],
   "source": [
    "histograma(datos = lista)"
   ]
  },
  {
   "cell_type": "markdown",
   "id": "c7fe6df8",
   "metadata": {},
   "source": [
    "NOTA: Las barras se alinean automáticamente, por lo que la barra de $6$ se alinea hacia la izquierda.\n",
    "\n",
    "¿Qué pueden ver en el gráfico? ¿Podemos lanzar otra vez los dados y tener un distinto gráfico?"
   ]
  },
  {
   "cell_type": "markdown",
   "id": "0d87e30c",
   "metadata": {},
   "source": [
    "### HISTOGRAMA DE ASTEROIDES SEGÚN SU SEMI EJE MAYOR $a$"
   ]
  },
  {
   "cell_type": "markdown",
   "id": "7dcc4555",
   "metadata": {},
   "source": [
    "Ahora que sabemos cómo interpretar un histograma realizaremos uno con nuestra base de datos. Tomaremos los valores de la columna $a$, es decir, el semi eje mayor.\n",
    "\n",
    "Para tomar una columna y almacenarla en la variable `semieje` corremos el siguiente código y podemos observar los primeros 5 elementos."
   ]
  },
  {
   "cell_type": "code",
   "execution_count": null,
   "id": "96dd831b",
   "metadata": {},
   "outputs": [],
   "source": [
    "semieje = data[\"a\"]\n",
    "print(semieje[0:5]) #obsevar los 5 primeros elementos, se puede modificar"
   ]
  },
  {
   "cell_type": "markdown",
   "id": "921bb180",
   "metadata": {},
   "source": [
    "El siguiente paso es realizar rápidamente un histograma con estos valores."
   ]
  },
  {
   "cell_type": "code",
   "execution_count": null,
   "id": "79f3b17d",
   "metadata": {},
   "outputs": [],
   "source": [
    "histograma(semieje)"
   ]
  },
  {
   "cell_type": "markdown",
   "id": "7de1f68b",
   "metadata": {},
   "source": [
    "Este gráfico no sirve de mucho, sólo nos informa que tenemos casi 140000 asteroides entre 0 y 50 UA.\n",
    "\n",
    "Tenemos 2 problemas, el primero es la cantidad de bins. Se puede obtener la información sobre el gráfico asignando variables al mismo (este código no usa la función `histograma`, no es de preocuparse)"
   ]
  },
  {
   "cell_type": "code",
   "execution_count": null,
   "id": "b1e484b1",
   "metadata": {},
   "outputs": [],
   "source": [
    "(n, bins, patches) = plt.hist(semieje)\n",
    "print(\"El gráfico se divide en\",len(bins), \"bins\")"
   ]
  },
  {
   "cell_type": "markdown",
   "id": "630a0f77",
   "metadata": {},
   "source": [
    "Podemos cambiar la cantidad de bins para tener mejor información, esto hará que se divida a los datos en más segmentos y así podemos notar mejor la distribución"
   ]
  },
  {
   "cell_type": "code",
   "execution_count": null,
   "id": "64b4fe6f",
   "metadata": {},
   "outputs": [],
   "source": [
    "## CAMBIAR LA CANTIDAD DE BINS A UN MAYOR VALOR\n",
    "histograma(semieje, bins = 100)"
   ]
  },
  {
   "cell_type": "markdown",
   "id": "b59e2ada",
   "metadata": {},
   "source": [
    "Aún nos queda la duda ¿por qué el gráfico va de 0 a 350 UA? Podemos explorar al asteroide más lejano (con máximo $a$) y el más cercano (con mínimo $a$). Así podemos tener una idea"
   ]
  },
  {
   "cell_type": "code",
   "execution_count": null,
   "id": "b5bf7c1c",
   "metadata": {},
   "outputs": [],
   "source": [
    "print(\"Asteroide más cercano\", min(semieje), \"UA\")\n",
    "print(\"Asteroide más lejano\", max(semieje), \"UA\")"
   ]
  },
  {
   "cell_type": "markdown",
   "id": "d8888c27",
   "metadata": {},
   "source": [
    "De aquí notamos que hay un asteroide que está a $378 UA$, y como seguramente son muy pocos, no aparecen en nuestro gráfico.\n",
    "\n",
    "Para solucionar esto podemos cortar el gráfico, ahora usaremos un límite menor y mayor para cortar horizontalmente los semiejes.\n",
    "\n",
    "Por ejemplo queremos que el gráfico vaya de 0 a 50 UA, entonces tendríamos\n",
    "`limites = [0,50]`\n",
    "\n",
    "El reto es cambiar estos parámetros (bins y límites) hasta que nuestro gráfico nos de mejor información."
   ]
  },
  {
   "cell_type": "code",
   "execution_count": null,
   "id": "6b75559e",
   "metadata": {
    "scrolled": true
   },
   "outputs": [],
   "source": [
    "histograma(semieje, bins = 25, limites = [0,100])"
   ]
  },
  {
   "cell_type": "markdown",
   "id": "ece3322a",
   "metadata": {},
   "source": [
    "Como seguramente notaron, para que el gráfico mejore tuvimos que subir mucho la cantidad de bins, y esto no es óptimo.\n",
    "\n",
    "La segunda solución es cortar *los datos*, es decir sólo graficaremos los asteroides con un $a$ menor a un valor específico. Para esto usaremos una variable llamada `valor`, y el código corta los datos. Luego podemos ver qué asteroide es el más cercano y lejano.\n"
   ]
  },
  {
   "cell_type": "code",
   "execution_count": null,
   "id": "b0d2e269",
   "metadata": {
    "scrolled": true
   },
   "outputs": [],
   "source": [
    "valor = 10   ## tomaremos a los asteroides con semieje menor a ....\n",
    "semieje2 = data[data[\"a\"]<valor][\"a\"]\n",
    "print(\"Asteroide más cercano\", min(semieje2), \"UA\")\n",
    "print(\"Asteroide más lejano\", max(semieje2), \"UA\")"
   ]
  },
  {
   "cell_type": "markdown",
   "id": "e401b904",
   "metadata": {},
   "source": [
    "Notamos que ahora el asteroide más lejano no sobrepasa el límite que ponemos, ahora podemos graficar sin la necesidad de cortar el gráfico (sin usar límite)."
   ]
  },
  {
   "cell_type": "code",
   "execution_count": null,
   "id": "2946a593",
   "metadata": {},
   "outputs": [],
   "source": [
    "histograma(semieje2, bins = 100) #jugar con el valor de bins"
   ]
  },
  {
   "cell_type": "markdown",
   "id": "538f4fff",
   "metadata": {},
   "source": [
    "Ahora podemos cambiar nuestro `valor` y también la cantidad de `bins`.\n",
    "\n",
    "¿Qué podemos observar?¿Entre qué valores hay una mayor cantidad de asteroides?\n",
    "\n",
    "**PROBLEMAS**\n",
    "\n",
    "- P1. ¿Cuánto vale el semieje mayor del planeta Júpiter?¿Cuántos asteroides existen a esa distancia?\n",
    "- P2. ¿Y para la tierra?\n",
    "- P3. Podemos tener un gráfico más interesante sabiendo que hay muy pocos asteroides desde el sol hacia la tierra, abajo realiza un gráfico con estos límites"
   ]
  },
  {
   "cell_type": "code",
   "execution_count": null,
   "id": "fc81b9c3",
   "metadata": {},
   "outputs": [],
   "source": [
    "## SOLUCIÓN PREGUNTA 3\n"
   ]
  },
  {
   "cell_type": "code",
   "execution_count": null,
   "id": "7ee7b676",
   "metadata": {},
   "outputs": [],
   "source": []
  }
 ],
 "metadata": {
  "kernelspec": {
   "display_name": "Python 3 (ipykernel)",
   "language": "python",
   "name": "python3"
  },
  "language_info": {
   "codemirror_mode": {
    "name": "ipython",
    "version": 3
   },
   "file_extension": ".py",
   "mimetype": "text/x-python",
   "name": "python",
   "nbconvert_exporter": "python",
   "pygments_lexer": "ipython3",
   "version": "3.8.8"
  }
 },
 "nbformat": 4,
 "nbformat_minor": 5
}
