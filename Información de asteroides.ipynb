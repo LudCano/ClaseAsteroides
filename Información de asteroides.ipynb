{
 "cells": [
  {
   "cell_type": "markdown",
   "id": "31d38c0a",
   "metadata": {},
   "source": [
    "### Taller práctico\n",
    "# Estudio de asteroides con los datos JPL-NASA\n",
    "Septiembre 2021\n",
    "#### Campaña boliviana de búsqueda de asteroides (ABASC) "
   ]
  },
  {
   "cell_type": "markdown",
   "id": "1733a5d1",
   "metadata": {},
   "source": [
    "### 1. Instrucciones"
   ]
  },
  {
   "cell_type": "markdown",
   "id": "acb50583",
   "metadata": {},
   "source": [
    "#### OPCIÓN 1: UTILIZAR LA COMPUTADORA (ARCHIVOS DESCARGADOS)\n",
    "\n",
    "1. Descargar el notebook `Información de asteroides.ipynb` y la base de datos `data.csv`. La base de datos deberá estar en el mismo directorio que el notebook\n",
    "2. Abrir el notebook con Jupyter Notebook\n",
    "\n",
    "#### OPCIÓN 2: UTILIZAR MYBINDER (ARCHIVOS EN LA NUBE)\n",
    "1. Utilizar el link provisto, esperar a que cargue la plataforma\n",
    "\n",
    "#### Manejar las celdas\n",
    "Para correr una celda debe hacer clic en la misma y luego presionar `SHIFT + ENTER`. A continuación un ejemplo"
   ]
  },
  {
   "cell_type": "code",
   "execution_count": 5,
   "id": "686bb20a",
   "metadata": {},
   "outputs": [
    {
     "name": "stdout",
     "output_type": "stream",
     "text": [
      "Ahora puedo correr celdas\n"
     ]
    }
   ],
   "source": [
    "print(\"Ahora puedo correr celdas\")"
   ]
  },
  {
   "cell_type": "markdown",
   "id": "63d84ee5",
   "metadata": {},
   "source": [
    "--------------------------"
   ]
  },
  {
   "cell_type": "markdown",
   "id": "016ba98b",
   "metadata": {},
   "source": [
    "# Base de datos\n",
    "\n",
    "La base de datos [JPL Small-Body Database Search Engine](https://ssd.jpl.nasa.gov/sbdb_query.cgi) proporciona información sobre asteroides. Es posible realizar una selección de los mismos y descargar los resultados en formato CSV (comma separated value).\n",
    "\n",
    "Para nuestro estudio del día de hoy se descargó una base de datos, la cual contiene a los asteroides que tienen un diámetro DEFINIDO. Los resultados se almacenan en `data.csv`.\n",
    "\n",
    "Para cargar la base de datos usaremos la librería `pandas`, además cargaremos la librería `matplotlib` para realizar gráficos más adelante."
   ]
  },
  {
   "cell_type": "code",
   "execution_count": 6,
   "id": "7e1cb7a1",
   "metadata": {},
   "outputs": [
    {
     "name": "stdout",
     "output_type": "stream",
     "text": [
      "Librerías cargadas\n"
     ]
    }
   ],
   "source": [
    "import pandas as pd\n",
    "import matplotlib.pyplot as plt\n",
    "print(\"Librerías cargadas\")"
   ]
  },
  {
   "cell_type": "markdown",
   "id": "f4bc2b84",
   "metadata": {},
   "source": [
    "Ahora que tenemos la librería cargada, podemos cargar la base de datos. Además podemos saber la longitud de la misma (cuántos asteroides contiene), para esto corremos el siguiente código:"
   ]
  },
  {
   "cell_type": "code",
   "execution_count": 8,
   "id": "3cb664c8",
   "metadata": {},
   "outputs": [
    {
     "name": "stdout",
     "output_type": "stream",
     "text": [
      "Base de datos cargada\n",
      "139840 asteroides\n"
     ]
    }
   ],
   "source": [
    "data = pd.read_csv(\"data.csv\")\n",
    "print(\"Base de datos cargada\")\n",
    "print(len(data[\"a\"]),\"asteroides\")"
   ]
  },
  {
   "cell_type": "markdown",
   "id": "6eee6b7e",
   "metadata": {},
   "source": [
    "Ahora nos preguntamos ¿qué columnas contiene mi base de datos? Podemos saber esto utilizando el método `data.columns`"
   ]
  },
  {
   "cell_type": "code",
   "execution_count": 10,
   "id": "3935f02b",
   "metadata": {},
   "outputs": [
    {
     "name": "stdout",
     "output_type": "stream",
     "text": [
      "Index(['full_name', 'a', 'e', 'i', 'om', 'w', 'q', 'ad', 'per_y', 'H', 'neo',\n",
      "       'pha', 'rot_per'],\n",
      "      dtype='object')\n"
     ]
    }
   ],
   "source": [
    "print(data.columns)"
   ]
  },
  {
   "cell_type": "markdown",
   "id": "46b843d0",
   "metadata": {},
   "source": [
    "No es muy intuitivo, queremos saber qué información contiene cada columna. Lo bueno es que este trabajo ya está realizado y las columnas son.\n",
    "\n",
    "| Columna | Parámetro | Descripción                                                             |\n",
    "|---------|-----------|-------------------------------------------------------------------------|\n",
    "| 1       | Full name | Nombre completo del objeto / Designación                                |\n",
    "| 2       | a         | Semi eje mayor (UA)                                                     |\n",
    "| 3       | e         | Excentricidad                                                           |\n",
    "| 4       | i         | Inclinación, en grados, respecto al plano eclíptico (órbita tierra-sol) |\n",
    "| 5       | node      | Longitud del nodo ascendente (grados)                                   |\n",
    "| 6       | peri      | Argumento de perihelio (grados)                                         |\n",
    "| 7       | q         | Perihelio (UA)                                                          |\n",
    "| 8       | Q         | Afelio (UA)                                                             |\n",
    "| 9       | period    | Periodo sidéreo orbital (años)                                          |\n",
    "| 10      | H         | Magnitud absoluta                                                       |\n",
    "| 11      | NEO       | Objeto cercano a la tierra NEO, (Y, yes/N, no)                          |\n",
    "| 12      | PHA       | Asteroide potencialmente peligroso (Y, yes/ N, no)                      |\n",
    "| 13      | rot_per   | Periodo rotacional del asteroide (horas)                                |\n",
    "\n",
    "Ahora sabemos qué información contiene la base de datos. Podemos ver las primeras filas de nuestra base de datos compilando el código:"
   ]
  },
  {
   "cell_type": "code",
   "execution_count": 12,
   "id": "aa6d4d61",
   "metadata": {},
   "outputs": [
    {
     "data": {
      "text/html": [
       "<div>\n",
       "<style scoped>\n",
       "    .dataframe tbody tr th:only-of-type {\n",
       "        vertical-align: middle;\n",
       "    }\n",
       "\n",
       "    .dataframe tbody tr th {\n",
       "        vertical-align: top;\n",
       "    }\n",
       "\n",
       "    .dataframe thead th {\n",
       "        text-align: right;\n",
       "    }\n",
       "</style>\n",
       "<table border=\"1\" class=\"dataframe\">\n",
       "  <thead>\n",
       "    <tr style=\"text-align: right;\">\n",
       "      <th></th>\n",
       "      <th>full_name</th>\n",
       "      <th>a</th>\n",
       "      <th>e</th>\n",
       "      <th>i</th>\n",
       "      <th>om</th>\n",
       "      <th>w</th>\n",
       "      <th>q</th>\n",
       "      <th>ad</th>\n",
       "      <th>per_y</th>\n",
       "      <th>H</th>\n",
       "      <th>neo</th>\n",
       "      <th>pha</th>\n",
       "      <th>rot_per</th>\n",
       "    </tr>\n",
       "  </thead>\n",
       "  <tbody>\n",
       "    <tr>\n",
       "      <th>0</th>\n",
       "      <td>1 Ceres (A801 AA)</td>\n",
       "      <td>2.765655</td>\n",
       "      <td>0.078392</td>\n",
       "      <td>10.588196</td>\n",
       "      <td>80.267638</td>\n",
       "      <td>73.738268</td>\n",
       "      <td>2.548850</td>\n",
       "      <td>2.982461</td>\n",
       "      <td>4.599443</td>\n",
       "      <td>3.53</td>\n",
       "      <td>N</td>\n",
       "      <td>N</td>\n",
       "      <td>9.074170</td>\n",
       "    </tr>\n",
       "    <tr>\n",
       "      <th>1</th>\n",
       "      <td>2 Pallas (A802 FA)</td>\n",
       "      <td>2.773815</td>\n",
       "      <td>0.229758</td>\n",
       "      <td>34.897780</td>\n",
       "      <td>172.920179</td>\n",
       "      <td>310.436861</td>\n",
       "      <td>2.136507</td>\n",
       "      <td>3.411122</td>\n",
       "      <td>4.619813</td>\n",
       "      <td>4.22</td>\n",
       "      <td>N</td>\n",
       "      <td>N</td>\n",
       "      <td>7.813200</td>\n",
       "    </tr>\n",
       "    <tr>\n",
       "      <th>2</th>\n",
       "      <td>3 Juno (A804 RA)</td>\n",
       "      <td>2.668143</td>\n",
       "      <td>0.256967</td>\n",
       "      <td>12.991486</td>\n",
       "      <td>169.852230</td>\n",
       "      <td>247.999240</td>\n",
       "      <td>1.982519</td>\n",
       "      <td>3.353766</td>\n",
       "      <td>4.358347</td>\n",
       "      <td>5.28</td>\n",
       "      <td>N</td>\n",
       "      <td>N</td>\n",
       "      <td>7.210000</td>\n",
       "    </tr>\n",
       "    <tr>\n",
       "      <th>3</th>\n",
       "      <td>4 Vesta (A807 FA)</td>\n",
       "      <td>2.361659</td>\n",
       "      <td>0.088351</td>\n",
       "      <td>7.141541</td>\n",
       "      <td>103.806059</td>\n",
       "      <td>151.015603</td>\n",
       "      <td>2.153004</td>\n",
       "      <td>2.570315</td>\n",
       "      <td>3.629394</td>\n",
       "      <td>3.31</td>\n",
       "      <td>N</td>\n",
       "      <td>N</td>\n",
       "      <td>5.342128</td>\n",
       "    </tr>\n",
       "    <tr>\n",
       "      <th>4</th>\n",
       "      <td>5 Astraea (A845 XA)</td>\n",
       "      <td>2.573909</td>\n",
       "      <td>0.190621</td>\n",
       "      <td>5.367587</td>\n",
       "      <td>141.570820</td>\n",
       "      <td>358.659149</td>\n",
       "      <td>2.083269</td>\n",
       "      <td>3.064549</td>\n",
       "      <td>4.129505</td>\n",
       "      <td>6.99</td>\n",
       "      <td>N</td>\n",
       "      <td>N</td>\n",
       "      <td>16.806000</td>\n",
       "    </tr>\n",
       "  </tbody>\n",
       "</table>\n",
       "</div>"
      ],
      "text/plain": [
       "                  full_name         a         e          i          om  \\\n",
       "0         1 Ceres (A801 AA)  2.765655  0.078392  10.588196   80.267638   \n",
       "1        2 Pallas (A802 FA)  2.773815  0.229758  34.897780  172.920179   \n",
       "2          3 Juno (A804 RA)  2.668143  0.256967  12.991486  169.852230   \n",
       "3         4 Vesta (A807 FA)  2.361659  0.088351   7.141541  103.806059   \n",
       "4       5 Astraea (A845 XA)  2.573909  0.190621   5.367587  141.570820   \n",
       "\n",
       "            w         q        ad     per_y     H neo pha    rot_per  \n",
       "0   73.738268  2.548850  2.982461  4.599443  3.53   N   N   9.074170  \n",
       "1  310.436861  2.136507  3.411122  4.619813  4.22   N   N   7.813200  \n",
       "2  247.999240  1.982519  3.353766  4.358347  5.28   N   N   7.210000  \n",
       "3  151.015603  2.153004  2.570315  3.629394  3.31   N   N   5.342128  \n",
       "4  358.659149  2.083269  3.064549  4.129505  6.99   N   N  16.806000  "
      ]
     },
     "execution_count": 12,
     "metadata": {},
     "output_type": "execute_result"
    }
   ],
   "source": [
    "data.head()"
   ]
  },
  {
   "cell_type": "markdown",
   "id": "30b2384c",
   "metadata": {},
   "source": [
    "¿Qué podemos ver en estas primeras filas?"
   ]
  }
 ],
 "metadata": {
  "kernelspec": {
   "display_name": "Python 3 (ipykernel)",
   "language": "python",
   "name": "python3"
  },
  "language_info": {
   "codemirror_mode": {
    "name": "ipython",
    "version": 3
   },
   "file_extension": ".py",
   "mimetype": "text/x-python",
   "name": "python",
   "nbconvert_exporter": "python",
   "pygments_lexer": "ipython3",
   "version": "3.8.8"
  }
 },
 "nbformat": 4,
 "nbformat_minor": 5
}
