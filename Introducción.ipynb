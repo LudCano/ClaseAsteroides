{
 "cells": [
  {
   "cell_type": "markdown",
   "id": "ba647dcd",
   "metadata": {},
   "source": [
    "# Notas de Python\n",
    "## Taller práctico ABASC III/2021\n",
    "\n",
    "Septiembre 2021"
   ]
  },
  {
   "cell_type": "markdown",
   "id": "f757950d",
   "metadata": {},
   "source": [
    "Estas notas tienen como objetivo dar algunos conceptos básicos de Python, así también realizar la prueba para los participantes del taller que usarán la plataforma mybinder.org"
   ]
  },
  {
   "cell_type": "markdown",
   "id": "c96006aa",
   "metadata": {},
   "source": [
    "### INSTRUCCIONES PARA MANEJAR LAS CELDAS\n",
    "\n",
    "Utilizaremos un Jupyter Notebook para nuestros programas, esto usa *celdas* para manejar código, también existen celdas de Markdown (el texto que está leyendo).\n",
    "\n",
    "Para ejecutar el código que está en una celda debe apretar `SHIFT + ENTER`. El resultado (output) (si existe) aparecerá debajo de la celda ejecutada.\n",
    "\n",
    "Podemos probar esto en la siguiente celda:"
   ]
  },
  {
   "cell_type": "code",
   "execution_count": 1,
   "id": "66b28f13",
   "metadata": {},
   "outputs": [
    {
     "name": "stdout",
     "output_type": "stream",
     "text": [
      "Hola mundo, este es el resultado\n"
     ]
    }
   ],
   "source": [
    "print(\"Hola mundo, este es el resultado\")"
   ]
  },
  {
   "cell_type": "markdown",
   "id": "f6dde1ec",
   "metadata": {},
   "source": [
    "## EJEMPLO: VARIABLES\n",
    "\n",
    "Podemos definir a una variable como algo formado por una **identificación** y un **valor**. Por ejemplo podemos asignar la edad de Juan a una variable llamada `edad_juan`"
   ]
  },
  {
   "cell_type": "code",
   "execution_count": 2,
   "id": "bcc5a3b8",
   "metadata": {},
   "outputs": [],
   "source": [
    "edad_juan = 20"
   ]
  },
  {
   "cell_type": "markdown",
   "id": "785b7eed",
   "metadata": {},
   "source": [
    "Notemos que lo único que hicimos es almacenar la variable, no pedimos que la muestre, por lo que no se mostrará ningún output.\n",
    "\n",
    "Si queremos mostrar la variable utilizamos la función `print()`"
   ]
  },
  {
   "cell_type": "code",
   "execution_count": 3,
   "id": "5fb72043",
   "metadata": {},
   "outputs": [
    {
     "name": "stdout",
     "output_type": "stream",
     "text": [
      "La edad de Juan es:  20\n"
     ]
    }
   ],
   "source": [
    "print(\"La edad de Juan es: \", edad_juan)"
   ]
  },
  {
   "cell_type": "markdown",
   "id": "f0b9e0d9",
   "metadata": {},
   "source": [
    "Podemos llamar a la variable utilizando su identificador, por ejemplo la edad de Juan en 3 años (que almacenaremos en `edad_juan2`) será:"
   ]
  },
  {
   "cell_type": "code",
   "execution_count": 5,
   "id": "d04bf175",
   "metadata": {},
   "outputs": [
    {
     "name": "stdout",
     "output_type": "stream",
     "text": [
      "La edad de Juan en 3 años será:  23\n"
     ]
    }
   ],
   "source": [
    "edad_juan2 = edad_juan + 3      # sumamos 3 a la edad previa\n",
    "print(\"La edad de Juan en 3 años será: \", edad_juan2)"
   ]
  },
  {
   "cell_type": "markdown",
   "id": "41e6152b",
   "metadata": {},
   "source": [
    "Podemos notar un **comentario** en la anterior celda (texto verde), esto nos sirve para realizar anotaciones en el código y no será interpretado.\n",
    "\n",
    "**RETO:** Escribir un código que realice lo siguiente: \n",
    "- En la variable `edad` almacenar su edad\n",
    "- En la variable `edad2` almacenar la edad de algún familiar\n",
    "- En la variable `resta` almacenar la diferencia de edades (`edad2 - edad1`)\n",
    "- Mostrar solamente la variable `resta`"
   ]
  },
  {
   "cell_type": "code",
   "execution_count": null,
   "id": "0e9100af",
   "metadata": {},
   "outputs": [],
   "source": [
    "## ESCRIBIR AQUÍ EL CÓDIGO"
   ]
  }
 ],
 "metadata": {
  "kernelspec": {
   "display_name": "Python 3 (ipykernel)",
   "language": "python",
   "name": "python3"
  },
  "language_info": {
   "codemirror_mode": {
    "name": "ipython",
    "version": 3
   },
   "file_extension": ".py",
   "mimetype": "text/x-python",
   "name": "python",
   "nbconvert_exporter": "python",
   "pygments_lexer": "ipython3",
   "version": "3.8.8"
  }
 },
 "nbformat": 4,
 "nbformat_minor": 5
}
