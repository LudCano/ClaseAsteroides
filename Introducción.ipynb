{
 "cells": [
  {
   "cell_type": "markdown",
   "id": "ba647dcd",
   "metadata": {},
   "source": [
    "# Notas de Python\n",
    "## Taller práctico ABASC III/2021\n",
    "\n",
    "Septiembre 2021"
   ]
  },
  {
   "cell_type": "markdown",
   "id": "f757950d",
   "metadata": {},
   "source": [
    "Estas notas tienen como objetivo dar algunos conceptos básicos de Python, así también realizar la prueba para los participantes del taller que usarán la plataforma mybinder.org"
   ]
  },
  {
   "cell_type": "markdown",
   "id": "c96006aa",
   "metadata": {},
   "source": [
    "### INSTRUCCIONES PARA MANEJAR LAS CELDAS\n",
    "\n",
    "Utilizaremos un Jupyter Notebook para nuestros programas, esto usa *celdas* para manejar código, también existen celdas de Markdown (el texto que está leyendo).\n",
    "\n",
    "Para ejecutar el código que está en una celda debe apretar `SHIFT + ENTER`. El resultado (output) (si existe) aparecerá debajo de la celda ejecutada.\n",
    "\n",
    "Podemos probar esto en la siguiente celda:"
   ]
  },
  {
   "cell_type": "code",
   "execution_count": null,
   "id": "66b28f13",
   "metadata": {},
   "outputs": [],
   "source": [
    "print(\"Hola mundo, este es el resultado\")"
   ]
  },
  {
   "cell_type": "markdown",
   "id": "f6dde1ec",
   "metadata": {},
   "source": [
    "## EJEMPLO: VARIABLES\n",
    "\n",
    "Podemos definir a una variable como algo formado por una **identificación** y un **valor**. Por ejemplo podemos asignar la edad de Juan a una variable llamada `edad_juan`"
   ]
  },
  {
   "cell_type": "code",
   "execution_count": null,
   "id": "bcc5a3b8",
   "metadata": {},
   "outputs": [],
   "source": [
    "edad_juan = 20"
   ]
  },
  {
   "cell_type": "markdown",
   "id": "785b7eed",
   "metadata": {},
   "source": [
    "Notemos que lo único que hicimos es almacenar la variable, no pedimos que la muestre, por lo que no se mostrará ningún output.\n",
    "\n",
    "Si queremos mostrar la variable utilizamos la función `print()`"
   ]
  },
  {
   "cell_type": "code",
   "execution_count": null,
   "id": "5fb72043",
   "metadata": {},
   "outputs": [],
   "source": [
    "print(\"La edad de Juan es: \", edad_juan)"
   ]
  },
  {
   "cell_type": "markdown",
   "id": "f0b9e0d9",
   "metadata": {},
   "source": [
    "Podemos llamar a la variable utilizando su identificador, por ejemplo la edad de Juan en 3 años (que almacenaremos en `edad_juan2`) será:"
   ]
  },
  {
   "cell_type": "code",
   "execution_count": null,
   "id": "d04bf175",
   "metadata": {},
   "outputs": [],
   "source": [
    "edad_juan2 = edad_juan + 3      # sumamos 3 a la edad previa\n",
    "print(\"La edad de Juan en 3 años será: \", edad_juan2)"
   ]
  },
  {
   "cell_type": "markdown",
   "id": "41e6152b",
   "metadata": {},
   "source": [
    "Podemos notar un **comentario** en la anterior celda (texto verde), esto nos sirve para realizar anotaciones en el código y no será interpretado.\n",
    "\n",
    "**RETO:** Escribir un código que realice lo siguiente: \n",
    "- En la variable `edad` almacenar su edad\n",
    "- En la variable `edad2` almacenar la edad de algún familiar\n",
    "- En la variable `resta` almacenar la diferencia de edades (`edad2 - edad1`)\n",
    "- Mostrar solamente la variable `resta`"
   ]
  },
  {
   "cell_type": "code",
   "execution_count": null,
   "id": "0e9100af",
   "metadata": {},
   "outputs": [],
   "source": [
    "## ESCRIBIR AQUÍ EL CÓDIGO"
   ]
  },
  {
   "cell_type": "markdown",
   "id": "103dd6d0",
   "metadata": {},
   "source": [
    "## EJEMPLO: FUNCIONES\n",
    "\n",
    "Una *función* es un pedazo de código que se ejecuta varias veces y nos ayuda a no repetir las mismas líneas. Este código trabaja por su cuenta y realiza pasos para devolver un resultado. No deben preocuparse en escribir funciones, pues ya están hechas para simplificar el código. \n",
    "\n",
    "Para usar una función debemos llamarla, usualmente se utiliza `nombre_de_funcion()` y entre los paréntesis se colocan los parámetros. La función a veces devuelve algo, un resultado que deseamos.\n",
    "\n",
    "Para ejemplificar esto creamos una función llamada `ecuacion_cuadratica`, la cual calcula las raíces de una ecuación en la forma $ax^2 + bx + c = 0$.\n",
    "Los parámetros que utilizaremos serán $a$, $b$ y $c$."
   ]
  },
  {
   "cell_type": "code",
   "execution_count": null,
   "id": "39d8a48f",
   "metadata": {},
   "outputs": [],
   "source": [
    "def ecuacion_cuadratica(a, b, c):\n",
    "    determinante = b**2 - 4*a*c\n",
    "    if determinante == 0:\n",
    "        x1 = -b/(2*a)\n",
    "        x2 = -b/(2*a)\n",
    "    elif determinante < 0:\n",
    "        x1 = str(-b/(2*a)) +  \"+\" + str((abs(determinante)**(1/2))/(2*a)) + \"i\"\n",
    "        x2 = str(-b/(2*a)) +  \"-\" + str((abs(determinante)**(1/2))/(2*a)) + \"i\"\n",
    "    else: \n",
    "        x1 = -b + (determinante**(1/2))/(2*a)\n",
    "        x2 = -b - (determinante**(1/2))/(2*a)\n",
    "    print(\"x1=\",x1,\"\\n\",\"x2=\",x2)"
   ]
  },
  {
   "cell_type": "markdown",
   "id": "4b4e0e19",
   "metadata": {},
   "source": [
    "Por ahora no es importante saber el código detrás de la función, simplemente saber que debemos poner los parámetros e imprimirá los valores de las dos raíces.\n",
    "\n",
    "Por ejemplo, deseamos encontrar las raíces de la ecuación $x^2 + 8x -10=0$, entonces sabemos que $a = 1$, $b=8$ y $c=10$. Entonces podemos llamar la función de la siguiente forma:"
   ]
  },
  {
   "cell_type": "code",
   "execution_count": null,
   "id": "56231a5d",
   "metadata": {},
   "outputs": [],
   "source": [
    "ecuacion_cuadratica(a = 1, b = 8, c = -10)"
   ]
  },
  {
   "cell_type": "markdown",
   "id": "3877c09c",
   "metadata": {},
   "source": [
    "Esta función también es útil para encontrar soluciones complejas, como ser la solución de $x^2 + 1 =0$.\n",
    "\n",
    "**RETO:** Escribir un código para solucionar esta ecuación:"
   ]
  },
  {
   "cell_type": "code",
   "execution_count": null,
   "id": "013d5d0a",
   "metadata": {},
   "outputs": [],
   "source": [
    "# SOLUCION AL RETO"
   ]
  },
  {
   "cell_type": "markdown",
   "id": "8966ec9c",
   "metadata": {},
   "source": [
    "¡Ahora puedes usar esta función como te apetezca! Lo importante es que sabemos cómo llamar y darle parámetros a una función. La celda de abajo es para que puedas experimentar como gustes."
   ]
  },
  {
   "cell_type": "code",
   "execution_count": null,
   "id": "9c0cdf59",
   "metadata": {},
   "outputs": [],
   "source": []
  },
  {
   "cell_type": "markdown",
   "id": "8aa3cbf8",
   "metadata": {},
   "source": [
    "**NOTA TECNICA:** Esta función no devuelve valores, si deseamos que devuelva valores debemos añadir la línea `return x1, x2`, que hará que necesitemos poner estos valores a dos variables al momento de llamar la función."
   ]
  }
 ],
 "metadata": {
  "kernelspec": {
   "display_name": "Python 3 (ipykernel)",
   "language": "python",
   "name": "python3"
  },
  "language_info": {
   "codemirror_mode": {
    "name": "ipython",
    "version": 3
   },
   "file_extension": ".py",
   "mimetype": "text/x-python",
   "name": "python",
   "nbconvert_exporter": "python",
   "pygments_lexer": "ipython3",
   "version": "3.8.8"
  }
 },
 "nbformat": 4,
 "nbformat_minor": 5
}
